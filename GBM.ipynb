{
 "cells": [
  {
   "cell_type": "markdown",
   "metadata": {},
   "source": [
    "\n",
    "\n",
    "<a href=\"https://drive.google.com/open?id=1BoCwDfzpAfZXs0lzRwWQxI1K0ZcdtN-X&authuser=davethemovie%40gmail.com&usp=drive_fs\">Concept Video 1</a>\n"
   ]
  },
  {
   "cell_type": "markdown",
   "metadata": {},
   "source": [
    "\n",
    "\n",
    "<a href=\"https://drive.google.com/open?id=1Bpsoh2SnlSEvNItzH6OB9byQULbCu6hF&authuser=davethemovie%40gmail.com&usp=drive_fs\">Concept Video 2</a>\n"
   ]
  },
  {
   "cell_type": "markdown",
   "metadata": {},
   "source": [
    "\n",
    "<a href=\"https://drive.google.com/open?id=1B4craiNF9YX0s5y_dAIS3ZChzjdK2mGp&authuser=davethemovie%40gmail.com&usp=drive_fs\">Data Video</a>"
   ]
  },
  {
   "cell_type": "code",
   "execution_count": null,
   "metadata": {},
   "outputs": [],
   "source": [
    "import numpy as np\n",
    "import matplotlib.pyplot as plt\n",
    "from sklearn.linear_model import LinearRegression"
   ]
  },
  {
   "cell_type": "code",
   "execution_count": null,
   "metadata": {},
   "outputs": [],
   "source": [
    "top = 1000\n",
    "nums = np.arange(-top,top+1)\n",
    "n = len(nums)\n",
    "x = 2*np.pi * nums/top\n",
    "y = np.sin(x)**3 + x**2 / (x**2).mean() + nums/n + (-2*(x<-4))\n",
    "plt.plot(x,y,'.',color = 'black')\n",
    "plt.title('Data');"
   ]
  },
  {
   "cell_type": "code",
   "execution_count": null,
   "metadata": {},
   "outputs": [],
   "source": [
    "n = len(x)\n",
    "IN_SAMPLE_FRACTION = .5\n",
    "n_iis = int(n*IN_SAMPLE_FRACTION)\n",
    "idx_all = np.arange(n)\n",
    "idx_iis = np.random.choice(idx_all,n_iis,replace=False)\n",
    "idx_oos = np.setdiff1d(idx_all, idx_iis)\n",
    "y_iis = y[idx_iis]\n",
    "y_oos = y[idx_oos]\n",
    "x_iis = x[idx_iis]\n",
    "x_oos = x[idx_oos]"
   ]
  },
  {
   "cell_type": "markdown",
   "metadata": {},
   "source": [
    "\n",
    "<a href=\"https://drive.google.com/open?id=1BDAoTfKyqul2fFpC5DSMM6HxULGNK8VX&authuser=davethemovie%40gmail.com&usp=drive_fs\">Fit Video</a>"
   ]
  },
  {
   "cell_type": "code",
   "execution_count": null,
   "metadata": {},
   "outputs": [],
   "source": [
    "def Fit(x_train,x__test,y_train,y__test=None,f=lambda x:x,do_print=True):\n",
    "    X_train = f(x_train).reshape((-1, 1))\n",
    "    X__test = f(x__test).reshape((-1, 1))\n",
    "    model = LinearRegression().fit(X_train, y_train)\n",
    "    yhat_test = model.predict(X__test)\n",
    "    if do_print:\n",
    "        plt.plot(x__test,y__test,'.', color = 'black')\n",
    "        plt.plot(x__test,yhat_test,'.', color = 'green')\n",
    "    return yhat_test, model"
   ]
  },
  {
   "cell_type": "code",
   "execution_count": null,
   "metadata": {},
   "outputs": [],
   "source": [
    "# Models\n",
    "f1 = lambda x:x**2\n",
    "f2 = lambda x:np.sin(x)\n",
    "f3 = lambda x:x"
   ]
  },
  {
   "cell_type": "markdown",
   "metadata": {},
   "source": [
    "<a href=\"https://drive.google.com/open?id=1B3FNwjYcnWHnxwJjJxsAdYgv-qleftMe&authuser=davethemovie%40gmail.com&usp=drive_fs\">Ensembling Video</a>"
   ]
  },
  {
   "cell_type": "code",
   "execution_count": null,
   "metadata": {},
   "outputs": [],
   "source": [
    "# Ensmeble\n",
    "yhat1,m1 = Fit(x_train=x_iis,x__test=x_oos,y_train=y_iis,y__test=y_oos,f=f1)\n",
    "plt.show()\n",
    "yhat2,m2 = Fit(x_train=x_iis,x__test=x_oos,y_train=y_iis,y__test=y_oos,f=f2)\n",
    "plt.show()\n",
    "yhat3,m3 = Fit(x_train=x_iis,x__test=x_oos,y_train=y_iis,y__test=y_oos,f=f3)\n",
    "plt.show()\n",
    "yhat = (yhat1 + yhat2 + yhat3)/3\n",
    "plt.plot(x_oos, y_oos,'o', color = 'black');\n",
    "plt.plot(x_oos, yhat,'o', color = 'red');"
   ]
  },
  {
   "cell_type": "code",
   "execution_count": null,
   "metadata": {},
   "outputs": [],
   "source": [
    "# Iterated modeling In Sample\n",
    "e0 = y_iis\n",
    "yhat1,m1 = Fit(x_train=x_iis,x__test=x_iis,y_train=e0,y__test=e0,f=f1)\n",
    "\n",
    "e1 = e0 - yhat1\n",
    "yhat2,m2 = Fit(x_train=x_iis,x__test=x_iis,y_train=e1,y__test=e1,f=f2)\n",
    "\n",
    "e2 = e1 - yhat2\n",
    "yhat3,m3 = Fit(x_train=x_iis,x__test=x_iis,y_train=e2,y__test=e2,f=f3)\n",
    "\n",
    "yhat = (yhat1 + yhat2 + yhat3)\n",
    "plt.plot(x_iis, y_iis,'o', color = 'black');\n",
    "plt.plot(x_iis, yhat,'o', color = 'red');\n",
    "plt.title('Iterated modeling. In Sample.');"
   ]
  },
  {
   "cell_type": "code",
   "execution_count": null,
   "metadata": {},
   "outputs": [],
   "source": [
    "# Iterated modeling OOS\n",
    "yhat1 = m1.predict(f1(x_oos).reshape((-1, 1)))\n",
    "yhat2 = m2.predict(f2(x_oos).reshape((-1, 1)))\n",
    "yhat3 = m3.predict(f3(x_oos).reshape((-1, 1)))\n",
    "yhat = (yhat1 + yhat2 + yhat3)\n",
    "plt.plot(x_oos, y_oos,'o', color = 'black');\n",
    "plt.plot(x_oos, yhat,'o', color = 'red');\n",
    "plt.title('Iterated modeling. OOS.');\n"
   ]
  },
  {
   "cell_type": "markdown",
   "metadata": {},
   "source": [
    "<a href=\"https://drive.google.com/open?id=1B6pVViuooDC2KoXh8Gj62aTw3wZFYmkz&authuser=davethemovie%40gmail.com&usp=drive_fs\">Boosting Video</a>"
   ]
  },
  {
   "cell_type": "code",
   "execution_count": null,
   "metadata": {},
   "outputs": [],
   "source": [
    "# GBM Small In Sample\n",
    "\n",
    "mylambda = 1/3\n",
    "\n",
    "e0 = y_iis\n",
    "yhat1,m1 = Fit(x_train=x_iis,x__test=x_iis,y_train=e0,y__test=e0,f=f1)\n",
    "\n",
    "e1 = e0 - mylambda * yhat1\n",
    "yhat2,m2 = Fit(x_train=x_iis,x__test=x_iis,y_train=e1,y__test=e1,f=f2)\n",
    "\n",
    "e2 = e1 - mylambda * yhat2\n",
    "yhat3,m3 = Fit(x_train=x_iis,x__test=x_iis,y_train=e2,y__test=e2,f=f3)\n",
    "\n",
    "yhat = (yhat1 + yhat2 + yhat3) * mylambda\n",
    "plt.plot(x_iis, y_iis,'o', color = 'black');\n",
    "plt.plot(x_iis, yhat,'o', color = 'red');\n",
    "plt.title('GBM Small. In Sample.');"
   ]
  },
  {
   "cell_type": "code",
   "execution_count": null,
   "metadata": {},
   "outputs": [],
   "source": [
    "# GBM Small OOS\n",
    "\n",
    "yhat1 = m1.predict(f1(x_oos).reshape((-1, 1)))\n",
    "yhat2 = m2.predict(f2(x_oos).reshape((-1, 1)))\n",
    "yhat3 = m3.predict(f3(x_oos).reshape((-1, 1)))\n",
    "yhat = (yhat1 + yhat2 + yhat3) * mylambda\n",
    "plt.plot(x_oos, y_oos,'o', color = 'black');\n",
    "plt.plot(x_oos, yhat,'o', color = 'red');\n",
    "plt.title('GBM Small. OOS.');"
   ]
  },
  {
   "cell_type": "code",
   "execution_count": null,
   "metadata": {},
   "outputs": [],
   "source": [
    "# GBM\n",
    "\n",
    "nModels = 100\n",
    "yhats = []\n",
    "models = []\n",
    "fvec = []\n",
    "errors = []\n",
    "mylambda = 1/np.sqrt(nModels)\n",
    "\n",
    "# Fit\n",
    "e = y_iis\n",
    "for i in range(nModels):\n",
    "    errors.append(e)\n",
    "    f = np.random.choice([f1,f2,f3])\n",
    "    yhat,m = Fit(x_train=x_iis,x__test=x_iis,y_train=e,y__test=e,f=f,do_print=False)\n",
    "    e = e - mylambda * yhat\n",
    "    yhats.append(yhat)\n",
    "    fvec.append(f)\n",
    "    models.append(m)\n",
    "\n",
    "# Forecast In Sample\n",
    "yhat = yhats[0]\n",
    "for i in range(1,nModels):\n",
    "    yhat += yhats[i]\n",
    "\n",
    "yhat *= mylambda\n",
    "plt.plot(x_iis, y_iis,'o', color = 'black');\n",
    "plt.plot(x_iis, yhat,'o', color = 'red');\n",
    "plt.title('GBM. In Sample.');\n",
    "plt.show()\n",
    "\n",
    "# Forecast OOS\n",
    "f = fvec[0]\n",
    "m = models[0]\n",
    "yhat = m.predict(f(x_oos).reshape((-1, 1)))\n",
    "\n",
    "for i in range(1,nModels):\n",
    "    f = fvec[i]\n",
    "    m = models[i]\n",
    "    yhat += m.predict(f(x_oos).reshape((-1, 1)))\n",
    "\n",
    "yhat *= mylambda\n",
    "plt.plot(x_oos, y_oos,'o', color = 'black');\n",
    "plt.plot(x_oos, yhat, 'o', color = 'red');\n",
    "plt.title('GBM. OOS.');\n",
    "plt.show()\n",
    "    "
   ]
  },
  {
   "cell_type": "markdown",
   "metadata": {},
   "source": [
    "\n",
    "\n",
    "<a href=\"https://drive.google.com/open?id=1Bvt_BNvXImlYX5AGv5w93DjIvn7l3dSb&authuser=davethemovie%40gmail.com&usp=drive_fs\">GBM Reporting Video</a>\n"
   ]
  },
  {
   "cell_type": "code",
   "execution_count": null,
   "metadata": {},
   "outputs": [],
   "source": [
    "# GBM Reported Performance\n",
    "\n",
    "nModels = 100000\n",
    "mylambda = 1/np.sqrt(nModels)\n",
    "\n",
    "yhat_i_train = 0\n",
    "yhat_i_test = 0\n",
    "\n",
    "reportFrequency = 10\n",
    "\n",
    "e = y_iis\n",
    "for i in range(1,nModels+1):\n",
    "\n",
    "    f = np.random.choice([f1,f2,f3])\n",
    "    yhat,m = Fit(x_train=x_iis,x__test=x_iis,y_train=e,f=f,do_print=False)\n",
    "    e = e - mylambda * yhat\n",
    "\n",
    "    yhat_i_train += yhat * mylambda\n",
    "    RSS_i_train = ((y_iis-yhat_i_train)**2).sum()\n",
    "\n",
    "    yhat_i_test += m.predict(f(x_oos).reshape((-1, 1))) * mylambda\n",
    "    RSS_i_test = ((y_oos-yhat_i_test)**2).sum()\n",
    "\n",
    "    if i % reportFrequency == 0:\n",
    "        print(i,RSS_i_train,RSS_i_test)"
   ]
  },
  {
   "cell_type": "markdown",
   "metadata": {},
   "source": [
    "\n",
    "\n",
    "<a href=\"https://drive.google.com/open?id=1C2AKpCWvJjZd2Xr5EB4AYnze8hIIBdeE&authuser=davethemovie%40gmail.com&usp=drive_fs\">GBM Stopping Video</a>\n"
   ]
  },
  {
   "cell_type": "code",
   "execution_count": null,
   "metadata": {},
   "outputs": [],
   "source": [
    "# GBM with Stopping Criteria\n",
    "\n",
    "# Stopping criteria\n",
    "maxit = 10000 # Maximum iterations < maxit\n",
    "abstol = .0001 # RSS/TSS < abstol\n",
    "reltol = .000001 # percent decrease in RSS measured in TSS < reltol\n",
    "\n",
    "mylambda = .3\n",
    "\n",
    "e = y_iis\n",
    "\n",
    "yhat_i_train = 0\n",
    "yhat_i_test = 0\n",
    "\n",
    "TSS = ((y_iis-y_iis.mean())**2).sum()\n",
    "RSS_i_train_Last = TSS\n",
    "\n",
    "reportFrequency = 10\n",
    "checkFrequency = 10\n",
    "\n",
    "stop = False\n",
    "\n",
    "i = 0\n",
    "\n",
    "while not(stop):\n",
    "\n",
    "    f = np.random.choice([f1,f2,f3])\n",
    "    yhat,m = Fit(x_train=x_iis,x__test=x_iis,y_train=e,f=f,do_print=False)\n",
    "    e = e - mylambda * yhat\n",
    "\n",
    "    yhat_i_train += yhat * mylambda\n",
    "    RSS_i_train = ((y_iis-yhat_i_train)**2).sum()\n",
    "\n",
    "    yhat_i_test += m.predict(f(x_oos).reshape((-1, 1))) * mylambda\n",
    "    RSS_i_test = ((y_oos-yhat_i_test)**2).sum()\n",
    "\n",
    "    if i % reportFrequency == 0:\n",
    "        print(i,RSS_i_train,RSS_i_test,RSS_i_train/TSS,abs(RSS_i_train - RSS_i_train_Last)/TSS)\n",
    "\n",
    "    if i % checkFrequency == 0:\n",
    "        if i == maxit:\n",
    "            stop = True\n",
    "        if RSS_i_train/TSS < abstol:\n",
    "            stop = True\n",
    "        if abs(RSS_i_train - RSS_i_train_Last)/TSS < reltol:\n",
    "            stop = True\n",
    "\n",
    "        RSS_i_train_Last = RSS_i_train\n",
    "\n",
    "    i += 1"
   ]
  }
 ],
 "metadata": {
  "kernelspec": {
   "display_name": "Python 3.8.9 64-bit",
   "language": "python",
   "name": "python3"
  },
  "language_info": {
   "codemirror_mode": {
    "name": "ipython",
    "version": 3
   },
   "file_extension": ".py",
   "mimetype": "text/x-python",
   "name": "python",
   "nbconvert_exporter": "python",
   "pygments_lexer": "ipython3",
   "version": "3.9.6"
  },
  "orig_nbformat": 4,
  "vscode": {
   "interpreter": {
    "hash": "31f2aee4e71d21fbe5cf8b01ff0e069b9275f58929596ceb00d14d90e3e16cd6"
   }
  }
 },
 "nbformat": 4,
 "nbformat_minor": 2
}
